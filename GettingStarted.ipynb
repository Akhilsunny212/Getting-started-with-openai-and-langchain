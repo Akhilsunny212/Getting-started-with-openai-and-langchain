{
 "cells": [
  {
   "cell_type": "markdown",
   "id": "2237a953-1c06-4221-aa37-7ef54cbf7df0",
   "metadata": {},
   "source": [
    "# Getting started with GenAi"
   ]
  },

  {
   "cell_type": "markdown",
   "id": "432b7307-9216-4908-bdc0-dd4e9cf1205d",
   "metadata": {},
   "source": [
    "## Install openai and langchain"
   ]
  },
  {
   "cell_type": "markdown",
   "id": "31506592-ebd7-4362-a622-f364268eecb6",
   "metadata": {},
   "source": [
    "### Commands for installing openai and langchain\n",
    "pip install openai  \n",
    "pip install langchain"
   ]
  },
  {
   "cell_type": "code",
   "execution_count": 1,
   "id": "7289d4ee-1d14-4279-bcee-0ef1c5cde96b",
   "metadata": {},
   "outputs": [],
   "source": [
    "import openai"
   ]
  },
  {
   "cell_type": "code",
   "execution_count": 18,
   "id": "1d96b172-dfb2-4cfd-9867-745d48e35ca2",
   "metadata": {},
   "outputs": [],
   "source": [
    "my_key=\"openai_apikey\""
   ]
  },
  {
   "cell_type": "code",
   "execution_count": 3,
   "id": "2f5e0b9b-c9b1-40ab-a932-81699459d88e",
   "metadata": {},
   "outputs": [],
   "source": [
    "openai.api_key=my_key"
   ]
  },
  {
   "cell_type": "code",
   "execution_count": 4,
   "id": "6d475361-e7ec-4ce7-9ccf-0c8de1034f47",
   "metadata": {},
   "outputs": [],
   "source": [
    "allmodels=openai.models.list()"
   ]
  },
  {
   "cell_type": "code",
   "execution_count": 5,
   "id": "72a43619-52fe-4a9a-87f9-5ad4c86c49e9",
   "metadata": {},
   "outputs": [
    {
     "data": {
      "text/html": [
       "<div>\n",
       "<style scoped>\n",
       "    .dataframe tbody tr th:only-of-type {\n",
       "        vertical-align: middle;\n",
       "    }\n",
       "\n",
       "    .dataframe tbody tr th {\n",
       "        vertical-align: top;\n",
       "    }\n",
       "\n",
       "    .dataframe thead th {\n",
       "        text-align: right;\n",
       "    }\n",
       "</style>\n",
       "<table border=\"1\" class=\"dataframe\">\n",
       "  <thead>\n",
       "    <tr style=\"text-align: right;\">\n",
       "      <th></th>\n",
       "      <th>0</th>\n",
       "      <th>1</th>\n",
       "      <th>2</th>\n",
       "      <th>3</th>\n",
       "    </tr>\n",
       "  </thead>\n",
       "  <tbody>\n",
       "    <tr>\n",
       "      <th>0</th>\n",
       "      <td>(id, dall-e-3)</td>\n",
       "      <td>(created, 1698785189)</td>\n",
       "      <td>(object, model)</td>\n",
       "      <td>(owned_by, system)</td>\n",
       "    </tr>\n",
       "    <tr>\n",
       "      <th>1</th>\n",
       "      <td>(id, gpt-4-1106-preview)</td>\n",
       "      <td>(created, 1698957206)</td>\n",
       "      <td>(object, model)</td>\n",
       "      <td>(owned_by, system)</td>\n",
       "    </tr>\n",
       "    <tr>\n",
       "      <th>2</th>\n",
       "      <td>(id, whisper-1)</td>\n",
       "      <td>(created, 1677532384)</td>\n",
       "      <td>(object, model)</td>\n",
       "      <td>(owned_by, openai-internal)</td>\n",
       "    </tr>\n",
       "    <tr>\n",
       "      <th>3</th>\n",
       "      <td>(id, davinci-002)</td>\n",
       "      <td>(created, 1692634301)</td>\n",
       "      <td>(object, model)</td>\n",
       "      <td>(owned_by, system)</td>\n",
       "    </tr>\n",
       "    <tr>\n",
       "      <th>4</th>\n",
       "      <td>(id, babbage-002)</td>\n",
       "      <td>(created, 1692634615)</td>\n",
       "      <td>(object, model)</td>\n",
       "      <td>(owned_by, system)</td>\n",
       "    </tr>\n",
       "    <tr>\n",
       "      <th>5</th>\n",
       "      <td>(id, dall-e-2)</td>\n",
       "      <td>(created, 1698798177)</td>\n",
       "      <td>(object, model)</td>\n",
       "      <td>(owned_by, system)</td>\n",
       "    </tr>\n",
       "    <tr>\n",
       "      <th>6</th>\n",
       "      <td>(id, gpt-3.5-turbo-16k)</td>\n",
       "      <td>(created, 1683758102)</td>\n",
       "      <td>(object, model)</td>\n",
       "      <td>(owned_by, openai-internal)</td>\n",
       "    </tr>\n",
       "    <tr>\n",
       "      <th>7</th>\n",
       "      <td>(id, tts-1-hd-1106)</td>\n",
       "      <td>(created, 1699053533)</td>\n",
       "      <td>(object, model)</td>\n",
       "      <td>(owned_by, system)</td>\n",
       "    </tr>\n",
       "    <tr>\n",
       "      <th>8</th>\n",
       "      <td>(id, tts-1-hd)</td>\n",
       "      <td>(created, 1699046015)</td>\n",
       "      <td>(object, model)</td>\n",
       "      <td>(owned_by, system)</td>\n",
       "    </tr>\n",
       "    <tr>\n",
       "      <th>9</th>\n",
       "      <td>(id, gpt-4)</td>\n",
       "      <td>(created, 1687882411)</td>\n",
       "      <td>(object, model)</td>\n",
       "      <td>(owned_by, openai)</td>\n",
       "    </tr>\n",
       "    <tr>\n",
       "      <th>10</th>\n",
       "      <td>(id, gpt-4-0613)</td>\n",
       "      <td>(created, 1686588896)</td>\n",
       "      <td>(object, model)</td>\n",
       "      <td>(owned_by, openai)</td>\n",
       "    </tr>\n",
       "    <tr>\n",
       "      <th>11</th>\n",
       "      <td>(id, gpt-3.5-turbo-1106)</td>\n",
       "      <td>(created, 1698959748)</td>\n",
       "      <td>(object, model)</td>\n",
       "      <td>(owned_by, system)</td>\n",
       "    </tr>\n",
       "    <tr>\n",
       "      <th>12</th>\n",
       "      <td>(id, gpt-4o-2024-05-13)</td>\n",
       "      <td>(created, 1715368132)</td>\n",
       "      <td>(object, model)</td>\n",
       "      <td>(owned_by, system)</td>\n",
       "    </tr>\n",
       "    <tr>\n",
       "      <th>13</th>\n",
       "      <td>(id, gpt-4o)</td>\n",
       "      <td>(created, 1715367049)</td>\n",
       "      <td>(object, model)</td>\n",
       "      <td>(owned_by, system)</td>\n",
       "    </tr>\n",
       "    <tr>\n",
       "      <th>14</th>\n",
       "      <td>(id, gpt-4-turbo-2024-04-09)</td>\n",
       "      <td>(created, 1712601677)</td>\n",
       "      <td>(object, model)</td>\n",
       "      <td>(owned_by, system)</td>\n",
       "    </tr>\n",
       "    <tr>\n",
       "      <th>15</th>\n",
       "      <td>(id, gpt-3.5-turbo-instruct-0914)</td>\n",
       "      <td>(created, 1694122472)</td>\n",
       "      <td>(object, model)</td>\n",
       "      <td>(owned_by, system)</td>\n",
       "    </tr>\n",
       "    <tr>\n",
       "      <th>16</th>\n",
       "      <td>(id, gpt-4-turbo)</td>\n",
       "      <td>(created, 1712361441)</td>\n",
       "      <td>(object, model)</td>\n",
       "      <td>(owned_by, system)</td>\n",
       "    </tr>\n",
       "    <tr>\n",
       "      <th>17</th>\n",
       "      <td>(id, gpt-3.5-turbo-instruct)</td>\n",
       "      <td>(created, 1692901427)</td>\n",
       "      <td>(object, model)</td>\n",
       "      <td>(owned_by, system)</td>\n",
       "    </tr>\n",
       "    <tr>\n",
       "      <th>18</th>\n",
       "      <td>(id, gpt-4-0125-preview)</td>\n",
       "      <td>(created, 1706037612)</td>\n",
       "      <td>(object, model)</td>\n",
       "      <td>(owned_by, system)</td>\n",
       "    </tr>\n",
       "    <tr>\n",
       "      <th>19</th>\n",
       "      <td>(id, text-embedding-3-small)</td>\n",
       "      <td>(created, 1705948997)</td>\n",
       "      <td>(object, model)</td>\n",
       "      <td>(owned_by, system)</td>\n",
       "    </tr>\n",
       "    <tr>\n",
       "      <th>20</th>\n",
       "      <td>(id, gpt-4-turbo-preview)</td>\n",
       "      <td>(created, 1706037777)</td>\n",
       "      <td>(object, model)</td>\n",
       "      <td>(owned_by, system)</td>\n",
       "    </tr>\n",
       "    <tr>\n",
       "      <th>21</th>\n",
       "      <td>(id, tts-1)</td>\n",
       "      <td>(created, 1681940951)</td>\n",
       "      <td>(object, model)</td>\n",
       "      <td>(owned_by, openai-internal)</td>\n",
       "    </tr>\n",
       "    <tr>\n",
       "      <th>22</th>\n",
       "      <td>(id, gpt-3.5-turbo-0301)</td>\n",
       "      <td>(created, 1677649963)</td>\n",
       "      <td>(object, model)</td>\n",
       "      <td>(owned_by, openai)</td>\n",
       "    </tr>\n",
       "    <tr>\n",
       "      <th>23</th>\n",
       "      <td>(id, gpt-3.5-turbo-0125)</td>\n",
       "      <td>(created, 1706048358)</td>\n",
       "      <td>(object, model)</td>\n",
       "      <td>(owned_by, system)</td>\n",
       "    </tr>\n",
       "    <tr>\n",
       "      <th>24</th>\n",
       "      <td>(id, gpt-3.5-turbo)</td>\n",
       "      <td>(created, 1677610602)</td>\n",
       "      <td>(object, model)</td>\n",
       "      <td>(owned_by, openai)</td>\n",
       "    </tr>\n",
       "    <tr>\n",
       "      <th>25</th>\n",
       "      <td>(id, tts-1-1106)</td>\n",
       "      <td>(created, 1699053241)</td>\n",
       "      <td>(object, model)</td>\n",
       "      <td>(owned_by, system)</td>\n",
       "    </tr>\n",
       "    <tr>\n",
       "      <th>26</th>\n",
       "      <td>(id, text-embedding-3-large)</td>\n",
       "      <td>(created, 1705953180)</td>\n",
       "      <td>(object, model)</td>\n",
       "      <td>(owned_by, system)</td>\n",
       "    </tr>\n",
       "    <tr>\n",
       "      <th>27</th>\n",
       "      <td>(id, gpt-3.5-turbo-0613)</td>\n",
       "      <td>(created, 1686587434)</td>\n",
       "      <td>(object, model)</td>\n",
       "      <td>(owned_by, openai)</td>\n",
       "    </tr>\n",
       "    <tr>\n",
       "      <th>28</th>\n",
       "      <td>(id, text-embedding-ada-002)</td>\n",
       "      <td>(created, 1671217299)</td>\n",
       "      <td>(object, model)</td>\n",
       "      <td>(owned_by, openai-internal)</td>\n",
       "    </tr>\n",
       "    <tr>\n",
       "      <th>29</th>\n",
       "      <td>(id, gpt-4-1106-vision-preview)</td>\n",
       "      <td>(created, 1711473033)</td>\n",
       "      <td>(object, model)</td>\n",
       "      <td>(owned_by, system)</td>\n",
       "    </tr>\n",
       "    <tr>\n",
       "      <th>30</th>\n",
       "      <td>(id, gpt-4-vision-preview)</td>\n",
       "      <td>(created, 1698894917)</td>\n",
       "      <td>(object, model)</td>\n",
       "      <td>(owned_by, system)</td>\n",
       "    </tr>\n",
       "    <tr>\n",
       "      <th>31</th>\n",
       "      <td>(id, gpt-3.5-turbo-16k-0613)</td>\n",
       "      <td>(created, 1685474247)</td>\n",
       "      <td>(object, model)</td>\n",
       "      <td>(owned_by, openai)</td>\n",
       "    </tr>\n",
       "  </tbody>\n",
       "</table>\n",
       "</div>"
      ],
      "text/plain": [
       "                                    0                      1                2  \\\n",
       "0                      (id, dall-e-3)  (created, 1698785189)  (object, model)   \n",
       "1            (id, gpt-4-1106-preview)  (created, 1698957206)  (object, model)   \n",
       "2                     (id, whisper-1)  (created, 1677532384)  (object, model)   \n",
       "3                   (id, davinci-002)  (created, 1692634301)  (object, model)   \n",
       "4                   (id, babbage-002)  (created, 1692634615)  (object, model)   \n",
       "5                      (id, dall-e-2)  (created, 1698798177)  (object, model)   \n",
       "6             (id, gpt-3.5-turbo-16k)  (created, 1683758102)  (object, model)   \n",
       "7                 (id, tts-1-hd-1106)  (created, 1699053533)  (object, model)   \n",
       "8                      (id, tts-1-hd)  (created, 1699046015)  (object, model)   \n",
       "9                         (id, gpt-4)  (created, 1687882411)  (object, model)   \n",
       "10                   (id, gpt-4-0613)  (created, 1686588896)  (object, model)   \n",
       "11           (id, gpt-3.5-turbo-1106)  (created, 1698959748)  (object, model)   \n",
       "12            (id, gpt-4o-2024-05-13)  (created, 1715368132)  (object, model)   \n",
       "13                       (id, gpt-4o)  (created, 1715367049)  (object, model)   \n",
       "14       (id, gpt-4-turbo-2024-04-09)  (created, 1712601677)  (object, model)   \n",
       "15  (id, gpt-3.5-turbo-instruct-0914)  (created, 1694122472)  (object, model)   \n",
       "16                  (id, gpt-4-turbo)  (created, 1712361441)  (object, model)   \n",
       "17       (id, gpt-3.5-turbo-instruct)  (created, 1692901427)  (object, model)   \n",
       "18           (id, gpt-4-0125-preview)  (created, 1706037612)  (object, model)   \n",
       "19       (id, text-embedding-3-small)  (created, 1705948997)  (object, model)   \n",
       "20          (id, gpt-4-turbo-preview)  (created, 1706037777)  (object, model)   \n",
       "21                        (id, tts-1)  (created, 1681940951)  (object, model)   \n",
       "22           (id, gpt-3.5-turbo-0301)  (created, 1677649963)  (object, model)   \n",
       "23           (id, gpt-3.5-turbo-0125)  (created, 1706048358)  (object, model)   \n",
       "24                (id, gpt-3.5-turbo)  (created, 1677610602)  (object, model)   \n",
       "25                   (id, tts-1-1106)  (created, 1699053241)  (object, model)   \n",
       "26       (id, text-embedding-3-large)  (created, 1705953180)  (object, model)   \n",
       "27           (id, gpt-3.5-turbo-0613)  (created, 1686587434)  (object, model)   \n",
       "28       (id, text-embedding-ada-002)  (created, 1671217299)  (object, model)   \n",
       "29    (id, gpt-4-1106-vision-preview)  (created, 1711473033)  (object, model)   \n",
       "30         (id, gpt-4-vision-preview)  (created, 1698894917)  (object, model)   \n",
       "31       (id, gpt-3.5-turbo-16k-0613)  (created, 1685474247)  (object, model)   \n",
       "\n",
       "                              3  \n",
       "0            (owned_by, system)  \n",
       "1            (owned_by, system)  \n",
       "2   (owned_by, openai-internal)  \n",
       "3            (owned_by, system)  \n",
       "4            (owned_by, system)  \n",
       "5            (owned_by, system)  \n",
       "6   (owned_by, openai-internal)  \n",
       "7            (owned_by, system)  \n",
       "8            (owned_by, system)  \n",
       "9            (owned_by, openai)  \n",
       "10           (owned_by, openai)  \n",
       "11           (owned_by, system)  \n",
       "12           (owned_by, system)  \n",
       "13           (owned_by, system)  \n",
       "14           (owned_by, system)  \n",
       "15           (owned_by, system)  \n",
       "16           (owned_by, system)  \n",
       "17           (owned_by, system)  \n",
       "18           (owned_by, system)  \n",
       "19           (owned_by, system)  \n",
       "20           (owned_by, system)  \n",
       "21  (owned_by, openai-internal)  \n",
       "22           (owned_by, openai)  \n",
       "23           (owned_by, system)  \n",
       "24           (owned_by, openai)  \n",
       "25           (owned_by, system)  \n",
       "26           (owned_by, system)  \n",
       "27           (owned_by, openai)  \n",
       "28  (owned_by, openai-internal)  \n",
       "29           (owned_by, system)  \n",
       "30           (owned_by, system)  \n",
       "31           (owned_by, openai)  "
      ]
     },
     "execution_count": 5,
     "metadata": {},
     "output_type": "execute_result"
    }
   ],
   "source": [
    "import pandas as pd\n",
    "pd.DataFrame(list(allmodels))"
   ]
  },
  {
   "cell_type": "markdown",
   "id": "b7a8c1f8-916b-4fba-8b30-03ea31f54c5d",
   "metadata": {},
   "source": [
    "### Accessing openai Api using api_key"
   ]
  },
  {
   "cell_type": "code",
   "execution_count": 20,
   "id": "861b409f-0577-4d4b-bac7-da77c463e239",
   "metadata": {},
   "outputs": [],
   "source": [
    "from openai import OpenAI\n",
    "client = OpenAI(api_key=my_key)"
   ]
  },
  {
   "cell_type": "code",
   "execution_count": 91,
   "id": "3b36a5de-3d31-4078-a664-8eb939efb173",
   "metadata": {},
   "outputs": [],
   "source": [
    "response=client.chat.completions.create(\n",
    "    model=\"gpt-3.5-turbo\",\n",
    "    messages=[\n",
    "        {\n",
    "            \"role\":\"user\",\n",
    "            \"content\":\"what is the use of laptop\"\n",
    "        }\n",
    "    ],\n",
    "    max_tokens=150\n",
    "\n",
    ")"
   ]
  },
  {
   "cell_type": "code",
   "execution_count": null,
   "id": "094d4a98-b616-40c8-8d6f-d0fe4444d1c6",
   "metadata": {},
   "outputs": [],
   "source": [
    "response.choices[0].message.content.split(\"\\n\")"
   ]
  },
  {
   "cell_type": "markdown",
   "id": "f33884e2-d9cb-4706-bc3e-bbd276c93846",
   "metadata": {},
   "source": [
    "###  Accessing openai Api using langchain"
   ]
  },
  {
   "cell_type": "code",
   "execution_count": 5,
   "id": "d25a9462-cb4f-471c-93cd-ada29501b360",
   "metadata": {},
   "outputs": [],
   "source": [
    "import langchain"
   ]
  },
  {
   "cell_type": "code",
   "execution_count": 6,
   "id": "9b1caa2e-d256-405d-8747-425158eed584",
   "metadata": {},
   "outputs": [],
   "source": [
    "from langchain.llms import OpenAI"
   ]
  },
  {
   "cell_type": "code",
   "execution_count": 11,
   "id": "abfdf34a-580d-4f4b-ad2d-06fc64aa51b8",
   "metadata": {},
   "outputs": [],
   "source": [
    "client1 = OpenAI(openai_api_key=my_key)"
   ]
  },
  {
   "cell_type": "code",
   "execution_count": 12,
   "id": "9e11a93e-30c9-4dc5-97e6-f85d3c3fe086",
   "metadata": {},
   "outputs": [
    {
     "data": {
      "text/plain": [
       "'\\n\\nThere is no definitive answer to this question as it ultimately depends on personal preference and specific needs. Some people may prefer the user-friendly interface and wide range of software available on Windows, while others may prefer the sleek design and compatibility with other Apple products on a Mac. It is important to research and consider your specific needs and preferences before deciding which operating system is best for you.'"
      ]
     },
     "execution_count": 12,
     "metadata": {},
     "output_type": "execute_result"
    }
   ],
   "source": [
    "client1.predict(\"which is best windows or mac?\")"
   ]
  },
  {
   "cell_type": "markdown",
   "id": "f9dda219-48ed-4980-8c86-91616f385ee3",
   "metadata": {},
   "source": [
    "### Using prompt templates and chains"
   ]
  },
  {
   "cell_type": "code",
   "execution_count": 15,
   "id": "ac2fc487-7b0b-4721-b2b0-3f821bda0d00",
   "metadata": {},
   "outputs": [],
   "source": [
    "from langchain.prompts import PromptTemplate\n",
    "from langchain.chains import LLMChain\n",
    "prompt = PromptTemplate.from_template(\"who won {sport} world cup\")"
   ]
  },
  {
   "cell_type": "code",
   "execution_count": 46,
   "id": "dbab2705-1e92-44b9-b088-384175e06689",
   "metadata": {},
   "outputs": [
    {
     "name": "stderr",
     "output_type": "stream",
     "text": [
      "C:\\Users\\akhil.goud.bathini\\.conda\\envs\\llmenv\\lib\\site-packages\\langchain_core\\_api\\deprecation.py:119: LangChainDeprecationWarning: The class `LLMChain` was deprecated in LangChain 0.1.17 and will be removed in 0.3.0. Use RunnableSequence, e.g., `prompt | llm` instead.\n",
      "  warn_deprecated(\n"
     ]
    }
   ],
   "source": [
    "chain = LLMChain(llm=client1,prompt=prompt)"
   ]
  },
  {
   "cell_type": "code",
   "execution_count": 95,
   "id": "a0893a81-70ff-4dd5-81c4-53130a8d53a3",
   "metadata": {},
   "outputs": [
    {
     "data": {
      "text/plain": [
       "' world cup\\n\\nThe most recent FIFA World Cup was won by France in 2018.'"
      ]
     },
     "execution_count": 95,
     "metadata": {},
     "output_type": "execute_result"
    }
   ],
   "source": [
    "chain.run(\"fifa\")"
   ]
  },
  {
   "cell_type": "markdown",
   "id": "705c296f-a369-44d5-8d5b-6a2d8eb71685",
   "metadata": {},
   "source": [
    "### Getting real time results"
   ]
  },
  {
   "cell_type": "code",
   "execution_count": null,
   "id": "5edf4232-9e09-477d-8822-a3d10874f3db",
   "metadata": {},
   "outputs": [],
   "source": [
    "!pip install google-search-results"
   ]
  },
  {
   "cell_type": "markdown",
   "id": "6b40064b-5ac7-4fcc-aec4-fb3e04233a04",
   "metadata": {},
   "source": [
    "#### use serpapi to access google search engine"
   ]
  },
  {
   "cell_type": "code",
   "execution_count": 68,
   "id": "e638c85f-26cb-4584-be35-5f05a7ab231f",
   "metadata": {},
   "outputs": [],
   "source": [
    "ser_api=\"15b62999546bab66035e2b1a241348aed78916017614c2d692144e898fb5cc30\""
   ]
  },
  {
   "cell_type": "code",
   "execution_count": 69,
   "id": "6a8de890-085e-473d-9d1a-77c558650e37",
   "metadata": {},
   "outputs": [],
   "source": [
    "from langchain.agents import AgentType, load_tools, initialize_agent"
   ]
  },
  {
   "cell_type": "code",
   "execution_count": 78,
   "id": "90a57f72-43a3-42b0-88e9-af10dbb6e68b",
   "metadata": {},
   "outputs": [],
   "source": [
    "tools = load_tools([\"serpapi\"],serpapi_api_key=ser_api,llm=client1)"
   ]
  },
  {
   "cell_type": "code",
   "execution_count": 79,
   "id": "00f02d14-ad56-46ba-8d93-3013f7099f6d",
   "metadata": {},
   "outputs": [],
   "source": [
    "agent=initialize_agent(tools,client1,agent=AgentType.ZERO_SHOT_REACT_DESCRIPTION,verbose=True)"
   ]
  },
  {
   "cell_type": "code",
   "execution_count": 83,
   "id": "b6dca974-4051-46e9-a3a5-391ff86ea42e",
   "metadata": {},
   "outputs": [
    {
     "name": "stdout",
     "output_type": "stream",
     "text": [
      "\n",
      "\n",
      "\u001b[1m> Entering new AgentExecutor chain...\u001b[0m\n",
      "\u001b[32;1m\u001b[1;3m I should use a search engine to find this information.\n",
      "Action: Search\n",
      "Action Input: \"today's date\"\u001b[0m\n",
      "Observation: \u001b[36;1m\u001b[1;3mWednesday, May 29, 2024\u001b[0m\n",
      "Thought:\u001b[32;1m\u001b[1;3m This is the current date.\n",
      "Final Answer: Wednesday, May 29, 2024\u001b[0m\n",
      "\n",
      "\u001b[1m> Finished chain.\u001b[0m\n"
     ]
    },
    {
     "data": {
      "text/plain": [
       "'Wednesday, May 29, 2024'"
      ]
     },
     "execution_count": 83,
     "metadata": {},
     "output_type": "execute_result"
    }
   ],
   "source": [
    "agent.run(\"what is today's date?\")"
   ]
  },
  {
   "cell_type": "markdown",
   "id": "12c781b9-8fd8-4781-a7af-69dde9e2c592",
   "metadata": {},
   "source": [
    "## Sequential Chain"
   ]
  },
  {
   "cell_type": "code",
   "execution_count": 13,
   "id": "8b765185-3b03-4a12-a915-26ed3887a977",
   "metadata": {},
   "outputs": [],
   "source": [
    "from langchain.chains import LLMChain"
   ]
  },
  {
   "cell_type": "code",
   "execution_count": 16,
   "id": "f16ce1be-298d-4f74-9af8-6d0851f5f9b5",
   "metadata": {},
   "outputs": [],
   "source": [
    "prompt1=PromptTemplate.from_template(\"i want to buy a car from {company name}, suggest me a good model\")"
   ]
  },
  {
   "cell_type": "code",
   "execution_count": 22,
   "id": "1f23c214-05d9-46f7-958e-43aa2f599162",
   "metadata": {},
   "outputs": [],
   "source": [
    "name_chain = LLMChain(llm=client1,prompt=prompt1)"
   ]
  },
  {
   "cell_type": "code",
   "execution_count": 23,
   "id": "f54d14c3-72dc-48b5-aae2-e319fa62d922",
   "metadata": {},
   "outputs": [],
   "source": [
    "prompt2=PromptTemplate.from_template(\"limitations of {name}\")"
   ]
  },
  {
   "cell_type": "code",
   "execution_count": 24,
   "id": "b38f2479-1706-4030-b191-f4eec4b85573",
   "metadata": {},
   "outputs": [],
   "source": [
    "str_chain = LLMChain(llm=client1,prompt=prompt2)"
   ]
  },
  {
   "cell_type": "code",
   "execution_count": 25,
   "id": "60770a97-9ccf-4aae-abcd-25ce67255bda",
   "metadata": {},
   "outputs": [],
   "source": [
    "from langchain.chains import SimpleSequentialChain"
   ]
  },
  {
   "cell_type": "code",
   "execution_count": 26,
   "id": "d5de7958-e555-4efb-9e39-6b4f9e2ed475",
   "metadata": {},
   "outputs": [],
   "source": [
    "chain1=SimpleSequentialChain(chains=[name_chain,str_chain])"
   ]
  },
  {
   "cell_type": "code",
   "execution_count": null,
   "id": "2c983f48-0097-4ad9-b2be-1c521fc820f5",
   "metadata": {},
   "outputs": [],
   "source": [
    "print(chain1.run(\"Benz\"))"
   ]
  },
  {
   "cell_type": "markdown",
   "id": "c927a4c4-dc2e-4935-b2f3-27e3e29c998a",
   "metadata": {},
   "source": [
    "## Document Loader"
   ]
  },
  {
   "cell_type": "code",
   "execution_count": null,
   "id": "2fbc7e5d-26bd-49b6-8a69-aa39f629a188",
   "metadata": {},
   "outputs": [],
   "source": [
    "!pip install pypdf"
   ]
  },
  {
   "cell_type": "code",
   "execution_count": 29,
   "id": "bfe93c42-aa38-47b9-8aef-3df6e2fa13a4",
   "metadata": {},
   "outputs": [],
   "source": [
    "from langchain.document_loaders import PyPDFLoader"
   ]
  },
  {
   "cell_type": "code",
   "execution_count": 30,
   "id": "6c4c3156-0fee-477a-8468-c4747b2b72cd",
   "metadata": {},
   "outputs": [],
   "source": [
    "file=PyPDFLoader(r\"C:\\Users\\akhil.goud.bathini\\Desktop\\New folder\\invoice\\Oct_invoice.pdf\")"
   ]
  },
  {
   "cell_type": "code",
   "execution_count": 31,
   "id": "3eb77451-27b6-4641-b78d-c6c3f0d49c3c",
   "metadata": {},
   "outputs": [],
   "source": [
    "pages=file.load_and_split()"
   ]
  },
  {
   "cell_type": "markdown",
   "id": "6e4be7e1-3eda-4651-a32f-8d4eff2bc149",
   "metadata": {},
   "source": [
    "## Memory"
   ]
  },
  {
   "cell_type": "code",
   "execution_count": 33,
   "id": "5e88c889-7667-427d-bee0-742378791238",
   "metadata": {},
   "outputs": [],
   "source": [
    "from langchain.memory import ConversationBufferMemory"
   ]
  },
  {
   "cell_type": "code",
   "execution_count": 34,
   "id": "322ea037-ca1a-4282-b9db-3e0fca6e8c71",
   "metadata": {},
   "outputs": [],
   "source": [
    "prompt4 = PromptTemplate.from_template(\"what is the {name} of india\")"
   ]
  },
  {
   "cell_type": "code",
   "execution_count": 35,
   "id": "3fa3f8bf-8cd9-4faf-9b47-21de0034cb30",
   "metadata": {},
   "outputs": [],
   "source": [
    "memory=ConversationBufferMemory()"
   ]
  },
  {
   "cell_type": "code",
   "execution_count": 37,
   "id": "a7192d38-bf87-4169-b040-8edc8d0c4e0d",
   "metadata": {},
   "outputs": [],
   "source": [
    "chain4 = LLMChain(llm=client1,prompt=prompt4,memory=memory)"
   ]
  },
  {
   "cell_type": "code",
   "execution_count": 38,
   "id": "7e35c637-674d-4056-83f3-87c66d510095",
   "metadata": {},
   "outputs": [
    {
     "data": {
      "text/plain": [
       "'\\n\\nAs of 2021, the estimated population of India is 1.39 billion people. '"
      ]
     },
     "execution_count": 38,
     "metadata": {},
     "output_type": "execute_result"
    }
   ],
   "source": [
    "chain4.run(\"population\")"
   ]
  },
  {
   "cell_type": "code",
   "execution_count": 39,
   "id": "c833d415-976e-4db0-bc96-99da7f5e679d",
   "metadata": {},
   "outputs": [
    {
     "data": {
      "text/plain": [
       "'\\n\\nThe capital of India is New Delhi.'"
      ]
     },
     "execution_count": 39,
     "metadata": {},
     "output_type": "execute_result"
    }
   ],
   "source": [
    "chain4.run(\"capital\")"
   ]
  },
  {
   "cell_type": "code",
   "execution_count": null,
   "id": "fa131551-751e-443f-9837-f9a2de7a0639",
   "metadata": {},
   "outputs": [],
   "source": [
    "print(chain4.memory)"
   ]
  },
  {
   "cell_type": "code",
   "execution_count": 41,
   "id": "326d76b0-69fa-4446-adf2-7a115bbf78e9",
   "metadata": {},
   "outputs": [],
   "source": [
    "from langchain.chains import ConversationChain"
   ]
  },
  {
   "cell_type": "code",
   "execution_count": 43,
   "id": "348fa80d-290f-4711-9d37-c1aa5e8c5204",
   "metadata": {},
   "outputs": [],
   "source": [
    "convo=ConversationChain(llm=client1)"
   ]
  },
  {
   "cell_type": "code",
   "execution_count": 44,
   "id": "3e548071-e313-4de0-a617-c6541aea1bbc",
   "metadata": {},
   "outputs": [
    {
     "data": {
      "text/plain": [
       "' The captain of the Indian team in 2011 was Mahendra Singh Dhoni. He led the team to victory in the 2011 ICC Cricket World Cup. Dhoni is known for his exceptional leadership skills and his calm demeanor under pressure.'"
      ]
     },
     "execution_count": 44,
     "metadata": {},
     "output_type": "execute_result"
    }
   ],
   "source": [
    "convo.run(\"who is the captain of indian team in 2011?\")"
   ]
  },
  {
   "cell_type": "code",
   "execution_count": 45,
   "id": "6f487a13-d92f-4877-9428-3b0964a37bda",
   "metadata": {},
   "outputs": [
    {
     "data": {
      "text/plain": [
       "' 20*2 is equal to 40. Is there anything else you would like to know?'"
      ]
     },
     "execution_count": 45,
     "metadata": {},
     "output_type": "execute_result"
    }
   ],
   "source": [
    "convo.run(\"20*2\")"
   ]
  },
  {
   "cell_type": "code",
   "execution_count": 46,
   "id": "775b78c9-0e4a-4c83-9725-77be9af2dbb9",
   "metadata": {},
   "outputs": [
    {
     "data": {
      "text/plain": [
       "' The Indian team won the 2011 ICC Cricket World Cup. They defeated Sri Lanka in the final match to claim the title. It was a historic moment for Indian cricket and the country as a whole.'"
      ]
     },
     "execution_count": 46,
     "metadata": {},
     "output_type": "execute_result"
    }
   ],
   "source": [
    "convo.run(\"which team won worldcup that year\")"
   ]
  },
  {
   "cell_type": "code",
   "execution_count": null,
   "id": "64df2ad1-7069-4657-9227-161606c593d4",
   "metadata": {},
   "outputs": [],
   "source": []
  }
 ],
 "metadata": {
  "kernelspec": {
   "display_name": "Python 3 (ipykernel)",
   "language": "python",
   "name": "python3"
  },
  "language_info": {
   "codemirror_mode": {
    "name": "ipython",
    "version": 3
   },
   "file_extension": ".py",
   "mimetype": "text/x-python",
   "name": "python",
   "nbconvert_exporter": "python",
   "pygments_lexer": "ipython3",
   "version": "3.11.5"
  }
 },
 "nbformat": 4,
 "nbformat_minor": 5
}
